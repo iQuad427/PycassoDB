{
 "cells": [
  {
   "cell_type": "code",
   "execution_count": null,
   "metadata": {
    "collapsed": true
   },
   "outputs": [],
   "source": [
    "import pandas as pd\n",
    "import numpy as np\n",
    "import matplotlib.pyplot as plt\n",
    "from tqdm import tqdm"
   ]
  },
  {
   "cell_type": "code",
   "execution_count": null,
   "outputs": [],
   "source": [
    "data = pd.read_csv('../assets/trains/102.csv', sep=';')\n",
    "# Sort by timestamps_UTC\n",
    "timestamp_col = 'timestamps_UTC'\n",
    "data[timestamp_col] = pd.to_datetime(data[timestamp_col])\n",
    "data = data.sort_values(by=timestamp_col)\n",
    "# Remove data when consecutive timestamps delta is bigger than 30min\n",
    "data = data[data[timestamp_col].diff() < pd.Timedelta(minutes=30)]\n",
    "# Remove data when consecutive timestamps delta is smaller than 1s\n",
    "data = data[data[timestamp_col].diff() > pd.Timedelta(seconds=1)]\n",
    "\n",
    "AirTemp_PC1 = data['RS_E_InAirTemp_PC1']\n",
    "AirTemp_PC2 = data['RS_E_InAirTemp_PC2']\n",
    "Timestamps = data['timestamps_UTC']\n",
    "limit = len(data)\n",
    "\n",
    "ts_pc1 = pd.Series(AirTemp_PC1.values, index=Timestamps)\n",
    "ts_pc2 = pd.Series(AirTemp_PC2.values, index=Timestamps)\n",
    "ts_pc1 = ts_pc1[0:limit]\n",
    "ts_pc2 = ts_pc2[0:limit]\n",
    "\n",
    "# Normalize the data between 0 and 1\n",
    "ts_pc1 = (ts_pc1 - ts_pc1.min()) / (ts_pc1.max() - ts_pc1.min())\n",
    "ts_pc2 = (ts_pc2 - ts_pc2.min()) / (ts_pc2.max() - ts_pc2.min())"
   ],
   "metadata": {
    "collapsed": false
   }
  },
  {
   "cell_type": "code",
   "execution_count": null,
   "outputs": [],
   "source": [
    "# Plot the data\n",
    "plt.figure(figsize=(20, 10))\n",
    "plt.plot(ts_pc1, label='PC1')\n",
    "plt.plot(ts_pc2, label='PC2')\n",
    "plt.legend()\n",
    "plt.show()\n",
    "\n",
    "# Count the number of 0s in 'RS_E_InAirTemp_PC2'\n",
    "print(\"Number of 0s in 'RS_E_InAirTemp_PC1':\", len(data[data['RS_E_InAirTemp_PC1'] == 0]))\n",
    "print(\"Number of 0s in 'RS_E_InAirTemp_PC2':\", len(data[data['RS_E_InAirTemp_PC2'] == 0]))\n",
    "\n",
    "# Remove data when 'RS_E_InAirTemp_PC1/2' is 0\n",
    "data_clean = data.copy()\n",
    "\n",
    "data_clean = data_clean[data_clean['RS_E_InAirTemp_PC1'] != 0]\n",
    "data_clean = data_clean[data_clean['RS_E_InAirTemp_PC2'] != 0]\n",
    "\n",
    "ts_clean_pc1 = pd.Series(data_clean['RS_E_InAirTemp_PC1'].values, index=data_clean['timestamps_UTC'])\n",
    "ts_clean_pc2 = pd.Series(data_clean['RS_E_InAirTemp_PC2'].values, index=data_clean['timestamps_UTC'])\n",
    "\n",
    "print(\"Size of the data after removing 0s in 'RS_E_InAirTemp_PC1/2':\", len(ts_clean_pc1))\n",
    "\n",
    "# Plot the data\n",
    "plt.figure(figsize=(20,10))\n",
    "plt.plot(ts_clean_pc1, label='PC1')\n",
    "plt.plot(ts_clean_pc2, label='PC2')\n",
    "plt.legend()\n",
    "plt.show()\n",
    "\n",
    "# Remove the rows where the distance between consecutive location is smaller than 1m\n",
    "# + pay attention to rows where timestamp is the same or really close => use speed\n",
    "# + pay attention to rows where speed is 0\n",
    "# + pay attention to rows where speed is bigger than 100km/h (shouldn't happen, max speed is 100km/h)\n",
    "print(\"Number of rows where speed smaller than 1km/h:\", len(data_clean[data_clean['speed'] < 1]))\n",
    "data_clean = data_clean[data_clean['speed'] >= 1]\n",
    "print(\"Number of rows where speed bigger than 100km/h:\", len(data_clean[data_clean['speed'] > 100]))\n",
    "data_clean = data_clean[data_clean['speed'] <= 100]\n",
    "\n",
    "print(len(data_clean))\n",
    "# Remove data when consecutive timestamps delta is bigger than 30min\n",
    "data_clean = data_clean[data_clean['timestamps_UTC'].diff() < pd.Timedelta(minutes=30)]\n",
    "print(len(data_clean))\n",
    "\n",
    "ts_clean_pc1 = pd.Series(data_clean['RS_E_InAirTemp_PC1'].values, index=data_clean['timestamps_UTC'])\n",
    "ts_clean_pc2 = pd.Series(data_clean['RS_E_InAirTemp_PC2'].values, index=data_clean['timestamps_UTC'])\n",
    "\n",
    "print(\"Size of the data after removing rows where speed smaller than 1km/h and bigger than 100km/h:\", len(ts_clean_pc1))\n",
    "\n",
    "# Plot the data\n",
    "plt.figure(figsize=(20,10))\n",
    "plt.plot(ts_clean_pc1, label='PC1')\n",
    "plt.plot(ts_clean_pc2, label='PC2')\n",
    "plt.legend()\n",
    "plt.show()"
   ],
   "metadata": {
    "collapsed": false
   }
  },
  {
   "cell_type": "code",
   "execution_count": null,
   "outputs": [],
   "source": [
    "# Compute the difference between values of 'RS_E_InAirTemp_PC1' and 'RS_E_InAirTemp_PC2' over time\n",
    "ts_diff = ts_clean_pc1 - ts_clean_pc2\n",
    "\n",
    "print(len(ts_diff))\n",
    "\n",
    "# Normalize the data between 0 and 1\n",
    "# ts_diff = (ts_diff - ts_diff.min()) / (ts_diff.max() - ts_diff.min())\n",
    "\n",
    "# Plot the data\n",
    "plt.figure(figsize=(20,10))\n",
    "plt.plot(ts_diff[1000:3000], label='PC1 - PC2')\n",
    "plt.legend()\n",
    "plt.show()\n",
    "\n",
    "# Remove data with a difference bigger than 15°C\n",
    "threshold = 3\n",
    "ts_diff = ts_diff[ts_diff < threshold]\n",
    "ts_diff = ts_diff[ts_diff > -threshold]\n",
    "\n",
    "print(len(ts_diff))\n",
    "\n",
    "# Plot the data\n",
    "# Plot the data\n",
    "plt.figure(figsize=(20,10))\n",
    "plt.plot(ts_diff, label='PC1 - PC2')\n",
    "plt.legend()\n",
    "plt.show()\n"
   ],
   "metadata": {
    "collapsed": false
   }
  }
 ],
 "metadata": {
  "kernelspec": {
   "display_name": "Python 3",
   "language": "python",
   "name": "python3"
  },
  "language_info": {
   "codemirror_mode": {
    "name": "ipython",
    "version": 2
   },
   "file_extension": ".py",
   "mimetype": "text/x-python",
   "name": "python",
   "nbconvert_exporter": "python",
   "pygments_lexer": "ipython2",
   "version": "2.7.6"
  }
 },
 "nbformat": 4,
 "nbformat_minor": 0
}
